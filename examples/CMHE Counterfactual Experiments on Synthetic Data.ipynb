{
 "cells": [
  {
   "cell_type": "markdown",
   "id": "18a9fda0",
   "metadata": {},
   "source": [
    "# Cox Mixtures with Heterogeneous Effects Demo\n",
    "<img align=\"left\" width=20% src=https://ndownloader.figshare.com/files/34052981>"
   ]
  },
  {
   "cell_type": "markdown",
   "id": "6ee01537",
   "metadata": {},
   "source": [
    "## 1. Introduction\n",
    "\n",
    "Estimation of treatment efficacy of real-world clinical interventions involves working with continuous outcomes such as time-to-death, re-hospitalization, or a composite event that may be subject to censoring. Causal reasoning in such scenarios requires decoupling the effects of confounding physiological characteristics that affect baseline survival rates from the effects of the interventions being assessed. In this paper, we present a latent variable approach to model heterogeneous treatment effects by proposing that an individual can belong to one of latent clusters with distinct response characteristics. We show that this latent structure can mediate the base survival rates and helps determine the effects of an intervention. We demonstrate the ability of our approach to discover actionable phenotypes of individuals based on their treatment response on multiple large randomized clinical trials originally conducted to assess appropriate treatment strategies to reduce cardiovascular risk."
   ]
  },
  {
   "cell_type": "markdown",
   "id": "378fbd47",
   "metadata": {},
   "source": [
    "<img  src=\"https://ndownloader.figshare.com/files/34056269\">"
   ]
  },
  {
   "cell_type": "markdown",
   "id": "0e276846",
   "metadata": {},
   "source": [
    "<img align=\"center\" width=35% src=\"https://figshare.com/ndownloader/files/34056284\">"
   ]
  },
  {
   "cell_type": "markdown",
   "id": "8bfde8db",
   "metadata": {},
   "source": [
    "## 2. Synthetic Data Example"
   ]
  },
  {
   "cell_type": "code",
   "execution_count": 1,
   "id": "a99d9a37",
   "metadata": {},
   "outputs": [],
   "source": [
    "import torch\n",
    "from tqdm import tqdm \n",
    "import sys\n",
    "sys.path.append('../auton_survival/')\n",
    "\n",
    "from datasets import load_dataset\n",
    "from example_utils import * \n",
    "\n",
    "# Load the synthetic dataset\n",
    "outcomes, features, interventions = load_dataset(dataset='SYNTHETIC')"
   ]
  },
  {
   "cell_type": "markdown",
   "id": "63fc4e40",
   "metadata": {},
   "source": [
    "### Hyper-parameters"
   ]
  },
  {
   "cell_type": "code",
   "execution_count": 2,
   "id": "5f7f70b5",
   "metadata": {},
   "outputs": [
    {
     "name": "stdout",
     "output_type": "stream",
     "text": [
      "Number of training data points: 3899\n",
      "Number of test data points: 1101\n"
     ]
    }
   ],
   "source": [
    "# Hyper-parameters\n",
    "random_seed = 0\n",
    "test_size = 0.25\n",
    "\n",
    "# Split the synthetic data into training and testing data\n",
    "import numpy as np\n",
    "\n",
    "np.random.seed(random_seed)\n",
    "n = features.shape[0] \n",
    "\n",
    "test_idx = np.zeros(n).astype('bool')\n",
    "test_idx[np.random.randint(n, size=int(n*test_size))] = True \n",
    "\n",
    "features_tr = features.iloc[~test_idx] \n",
    "outcomes_tr = outcomes.iloc[~test_idx]\n",
    "interventions_tr = interventions[~test_idx]\n",
    "print(f'Number of training data points: {len(features_tr)}')\n",
    "\n",
    "features_te = features.iloc[test_idx] \n",
    "outcomes_te = outcomes.iloc[test_idx]\n",
    "interventions_te = interventions[test_idx]\n",
    "print(f'Number of test data points: {len(features_te)}')"
   ]
  },
  {
   "cell_type": "markdown",
   "id": "7806516d",
   "metadata": {},
   "source": [
    "### Let us train a CMHE model via hyper-parameter tuning"
   ]
  },
  {
   "cell_type": "code",
   "execution_count": 3,
   "id": "a060b743",
   "metadata": {},
   "outputs": [],
   "source": [
    "# Hyper-parameters to train model\n",
    "k = 1 \n",
    "g = 2 \n",
    "layers = [50] \n",
    "\n",
    "model_random_seed = 3\n",
    "iters = 50\n",
    "learning_rate = 0.001\n",
    "batch_size = 128\n",
    "vsize = 0.15\n",
    "patience = 3\n",
    "optimizer = \"Adam\""
   ]
  },
  {
   "cell_type": "code",
   "execution_count": 4,
   "id": "b5887db1",
   "metadata": {
    "scrolled": true
   },
   "outputs": [
    {
     "name": "stdout",
     "output_type": "stream",
     "text": [
      "Shape of covariates: (3899, 8) | times: (3899,) | events: (3899,) | interventions: (3899,)\n"
     ]
    },
    {
     "name": "stderr",
     "output_type": "stream",
     "text": [
      "  0%|                                                   | 0/50 [00:00<?, ?it/s]/zfsauton2/home/mgoswami/auton-survival/examples/../auton_survival/models/cmhe/cmhe_utilities.py:121: RuntimeWarning: invalid value encountered in log\n",
      "  probs.append(np.log(event_probs))\n",
      "/zfsauton2/home/mgoswami/auton-survival/examples/../auton_survival/models/cmhe/cmhe_utilities.py:71: RuntimeWarning: invalid value encountered in power\n",
      "  return spl(ts)**risks\n",
      "/zfsauton2/home/mgoswami/auton-survival/examples/../auton_survival/models/cmhe/cmhe_utilities.py:66: RuntimeWarning: invalid value encountered in power\n",
      "  s0ts = (-risks)*(spl(ts)**(risks-1))\n",
      "/zfsauton2/home/mgoswami/auton-survival/examples/../auton_survival/models/cmhe/cmhe_utilities.py:121: RuntimeWarning: divide by zero encountered in log\n",
      "  probs.append(np.log(event_probs))\n",
      "100%|██████████████████████████████████████████| 50/50 [01:03<00:00,  1.27s/it]\n"
     ]
    }
   ],
   "source": [
    "# Set torch and numpy random seeds\n",
    "torch.manual_seed(model_random_seed)\n",
    "np.random.seed(model_random_seed)\n",
    "\n",
    "# Convert training data into torch tensors\n",
    "x = features_tr.values.astype('float32')\n",
    "t = outcomes_tr['time'].values.astype('float32')\n",
    "e = outcomes_tr['event'].values.astype('float32')\n",
    "a = interventions_tr.values.astype('float32')\n",
    "print(f'Shape of covariates: {x.shape} | times: {t.shape} | events: {e.shape} | interventions: {a.shape}')\n",
    "\n",
    "from models.cmhe import DeepCoxMixturesHeterogenousEffects\n",
    "\n",
    "# Instantiate the CMHE model\n",
    "model = DeepCoxMixturesHeterogenousEffects(k=k, g=g, layers=layers)\n",
    "\n",
    "model = model.fit(x, t, e, a, vsize=vsize, val_data=None, iters=iters, \n",
    "                  learning_rate=learning_rate, batch_size=batch_size, \n",
    "                  optimizer=optimizer, random_state=model_random_seed, \n",
    "                  patience=patience)"
   ]
  },
  {
   "cell_type": "code",
   "execution_count": 5,
   "id": "c30fac2d",
   "metadata": {},
   "outputs": [
    {
     "name": "stdout",
     "output_type": "stream",
     "text": [
      "Treatment Effect for the 2 groups: tensor([-0.5131,  0.3845])\n",
      "Distribution of individuals in each treatement phenotype in the training data: [1968 1931]\n",
      "\n",
      "Group 1 has the maximum restricted mean survival time on the training data!\n"
     ]
    },
    {
     "name": "stderr",
     "output_type": "stream",
     "text": [
      "/zfsauton2/home/mgoswami/anaconda3/envs/cox-subgroup/lib/python3.8/site-packages/lifelines/fitters/__init__.py:204: ApproximationWarning: Approximating using linear interpolation`.\n",
      "\n",
      "  warnings.warn(\"Approximating using linear interpolation`.\\n\", exceptions.ApproximationWarning)\n"
     ]
    }
   ],
   "source": [
    "print(f'Treatment Effect for the {g} groups: {model.torch_model[0].omega.detach()}')\n",
    "\n",
    "x = features_tr.values.astype('float32')\n",
    "a = interventions_tr.values.astype('float32')\n",
    "zeta_probs_train = model.predict_latent_phi(x)\n",
    "\n",
    "zeta_train =  np.argmax(zeta_probs_train, axis=1)\n",
    "print(f'Distribution of individuals in each treatement phenotype in the training data: \\\n",
    "{np.unique(zeta_train, return_counts=True)[1]}')\n",
    "\n",
    "max_treat_idx_CMHE = find_max_treatment_effect_phenotype(\n",
    "    g=2, zeta_probs=zeta_probs_train, factual_outcomes=(outcomes_tr, interventions_tr))\n",
    "print(f'\\nGroup {max_treat_idx_CMHE} has the maximum restricted mean survival time on the training data!')"
   ]
  },
  {
   "cell_type": "code",
   "execution_count": 6,
   "id": "90fefe53",
   "metadata": {},
   "outputs": [
    {
     "name": "stdout",
     "output_type": "stream",
     "text": [
      "Distribution of individuals in each treatement phenotype in the test data: [584 517]\n"
     ]
    }
   ],
   "source": [
    "# Now for each individual in the test data, let's find the probability that \n",
    "# they belong to the max treatment effect group\n",
    "\n",
    "# Change the testing data to torch tensors\n",
    "x = features_te.values.astype('float32')\n",
    "a = interventions_te.values.astype('float32')\n",
    "\n",
    "zeta_probs_test_CMHE = model.predict_latent_phi(x)\n",
    "zeta_test =  np.argmax(zeta_probs_test_CMHE, axis=1)\n",
    "print(f'Distribution of individuals in each treatement phenotype in the test data: \\\n",
    "{np.unique(zeta_test, return_counts=True)[1]}')"
   ]
  },
  {
   "cell_type": "code",
   "execution_count": 7,
   "id": "813d9011",
   "metadata": {},
   "outputs": [
    {
     "data": {
      "image/png": "[encoded data removed]",
      "text/plain": [
       "<Figure size 576x432 with 1 Axes>"
      ]
     },
     "metadata": {
      "needs_background": "light"
     },
     "output_type": "display_data"
    }
   ],
   "source": [
    "# Now let us evaluate our performance\n",
    "plot_phenotypes_roc(outcomes_te, zeta_probs_test_CMHE[:, max_treat_idx_CMHE])"
   ]
  },
  {
   "cell_type": "markdown",
   "id": "a3e4a96c",
   "metadata": {},
   "source": [
    "## Comparison with the Clustering phenotyper"
   ]
  },
  {
   "cell_type": "code",
   "execution_count": 11,
   "id": "e8bbd932",
   "metadata": {},
   "outputs": [
    {
     "name": "stdout",
     "output_type": "stream",
     "text": [
      "No Dimensionaity reduction specified...\n",
      " Proceeding to learn clusters with the raw features...\n",
      "Fitting the following Clustering Model:\n",
      " GaussianMixture(covariance_type='diag', n_components=3)\n",
      "Distribution of individuals in each treatement phenotype in the training data: [1242 1283 1374]\n",
      "\n",
      "Group 2 has the maximum restricted mean survival time on the training data!\n"
     ]
    },
    {
     "name": "stderr",
     "output_type": "stream",
     "text": [
      "/zfsauton2/home/mgoswami/anaconda3/envs/cox-subgroup/lib/python3.8/site-packages/lifelines/fitters/__init__.py:204: ApproximationWarning: Approximating using linear interpolation`.\n",
      "\n",
      "  warnings.warn(\"Approximating using linear interpolation`.\\n\", exceptions.ApproximationWarning)\n"
     ]
    }
   ],
   "source": [
    "from phenotyping import ClusteringPhenotyper\n",
    "from sklearn.metrics import auc\n",
    "\n",
    "clustering_method = 'gmm'\n",
    "dim_red_method = None # We would not perform dimensionality reduction for the synthetic dataset\n",
    "n_components = None \n",
    "n_clusters = 2 # Number of underlying treatment effect phenotypes\n",
    "\n",
    "# Running the phenotyper\n",
    "phenotyper = ClusteringPhenotyper(clustering_method=clustering_method, \n",
    "                                  dim_red_method=dim_red_method, \n",
    "                                  n_components=n_components, \n",
    "                                  n_clusters=n_clusters)\n",
    "\n",
    "zeta_probs_train = phenotyper.fit_phenotype(features_tr.values)\n",
    "zeta_train = np.argmax(zeta_probs_train, axis=1)\n",
    "print(f'Distribution of individuals in each treatement phenotype in the training data: \\\n",
    "{np.unique(zeta_train, return_counts=True)[1]}')\n",
    "\n",
    "max_treat_idx_CP = find_max_treatment_effect_phenotype(\n",
    "    g=2, zeta_probs=zeta_probs_train, factual_outcomes=(outcomes_tr, interventions_tr))\n",
    "print(f'\\nGroup {max_treat_idx_CP} has the maximum restricted mean survival time on the training data!')"
   ]
  },
  {
   "cell_type": "code",
   "execution_count": 12,
   "id": "335879ce",
   "metadata": {},
   "outputs": [
    {
     "name": "stdout",
     "output_type": "stream",
     "text": [
      "Distribution of individuals in each treatement phenotype in the test data: [342 342 417]\n"
     ]
    }
   ],
   "source": [
    "# Now for each individual in the test data, let's find the probability that \n",
    "# they belong to the max treatment effect group\n",
    "\n",
    "# Change the testing data to torch tensors\n",
    "x = features_te.values.astype('float32')\n",
    "a = interventions_te.values.astype('float32')\n",
    "\n",
    "# Use the phenotyper trained on training data to phenotype on testing data\n",
    "zeta_probs_test_CP = phenotyper.phenotype(features_te.values)\n",
    "zeta_test_CP =  np.argmax(zeta_probs_test_CP, axis=1)\n",
    "print(f'Distribution of individuals in each treatement phenotype in the test data: \\\n",
    "{np.unique(zeta_test_CP, return_counts=True)[1]}')"
   ]
  },
  {
   "cell_type": "code",
   "execution_count": 13,
   "id": "004791b5",
   "metadata": {},
   "outputs": [
    {
     "data": {
      "image/png": "[encoded data removed]",
      "text/plain": [
       "<Figure size 576x432 with 1 Axes>"
      ]
     },
     "metadata": {
      "needs_background": "light"
     },
     "output_type": "display_data"
    }
   ],
   "source": [
    "# Now let us evaluate our performance\n",
    "plot_phenotypes_roc(outcomes_te, zeta_probs_test_CP[:, max_treat_idx_CP])"
   ]
  }
 ],
 "metadata": {
  "kernelspec": {
   "display_name": "Python 3 (ipykernel)",
   "language": "python",
   "name": "python3"
  },
  "language_info": {
   "codemirror_mode": {
    "name": "ipython",
    "version": 3
   },
   "file_extension": ".py",
   "mimetype": "text/x-python",
   "name": "python",
   "nbconvert_exporter": "python",
   "pygments_lexer": "ipython3",
   "version": "3.8.12"
  }
 },
 "nbformat": 4,
 "nbformat_minor": 5
}
